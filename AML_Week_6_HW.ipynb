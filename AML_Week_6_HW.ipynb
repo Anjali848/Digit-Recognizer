{
 "cells": [
  {
   "cell_type": "markdown",
   "id": "675677d8",
   "metadata": {},
   "source": [
    "# Homework 6 "
   ]
  },
  {
   "cell_type": "markdown",
   "id": "44141d44",
   "metadata": {},
   "source": [
    "## Section 1: Introduction"
   ]
  },
  {
   "cell_type": "code",
   "execution_count": 1,
   "id": "1578a36c",
   "metadata": {},
   "outputs": [],
   "source": [
    "#Load Packages\n",
    "\n",
    "from sklearn import metrics\n",
    "import numpy as np\n",
    "import matplotlib.pyplot as plt\n",
    "import seaborn as sns\n",
    "import pandas as pd\n"
   ]
  },
  {
   "cell_type": "code",
   "execution_count": 2,
   "id": "e89098a0",
   "metadata": {},
   "outputs": [],
   "source": [
    "#Import dataset\n",
    "\n",
    "train = pd.read_csv('/Users/anjali/Documents/SPRING22/IST 707/Week6/digit-train.csv')\n",
    "test = pd.read_csv('/Users/anjali/Documents/SPRING22/IST 707/Week6/digit-test.csv')\n"
   ]
  },
  {
   "cell_type": "code",
   "execution_count": 3,
   "id": "ddf97be0",
   "metadata": {},
   "outputs": [
    {
     "data": {
      "text/html": [
       "<div>\n",
       "<style scoped>\n",
       "    .dataframe tbody tr th:only-of-type {\n",
       "        vertical-align: middle;\n",
       "    }\n",
       "\n",
       "    .dataframe tbody tr th {\n",
       "        vertical-align: top;\n",
       "    }\n",
       "\n",
       "    .dataframe thead th {\n",
       "        text-align: right;\n",
       "    }\n",
       "</style>\n",
       "<table border=\"1\" class=\"dataframe\">\n",
       "  <thead>\n",
       "    <tr style=\"text-align: right;\">\n",
       "      <th></th>\n",
       "      <th>label</th>\n",
       "      <th>pixel0</th>\n",
       "      <th>pixel1</th>\n",
       "      <th>pixel2</th>\n",
       "      <th>pixel3</th>\n",
       "      <th>pixel4</th>\n",
       "      <th>pixel5</th>\n",
       "      <th>pixel6</th>\n",
       "      <th>pixel7</th>\n",
       "      <th>pixel8</th>\n",
       "      <th>...</th>\n",
       "      <th>pixel774</th>\n",
       "      <th>pixel775</th>\n",
       "      <th>pixel776</th>\n",
       "      <th>pixel777</th>\n",
       "      <th>pixel778</th>\n",
       "      <th>pixel779</th>\n",
       "      <th>pixel780</th>\n",
       "      <th>pixel781</th>\n",
       "      <th>pixel782</th>\n",
       "      <th>pixel783</th>\n",
       "    </tr>\n",
       "  </thead>\n",
       "  <tbody>\n",
       "    <tr>\n",
       "      <th>0</th>\n",
       "      <td>3</td>\n",
       "      <td>0</td>\n",
       "      <td>0</td>\n",
       "      <td>0</td>\n",
       "      <td>0</td>\n",
       "      <td>0</td>\n",
       "      <td>0</td>\n",
       "      <td>0</td>\n",
       "      <td>0</td>\n",
       "      <td>0</td>\n",
       "      <td>...</td>\n",
       "      <td>0</td>\n",
       "      <td>0</td>\n",
       "      <td>0</td>\n",
       "      <td>0</td>\n",
       "      <td>0</td>\n",
       "      <td>0</td>\n",
       "      <td>0</td>\n",
       "      <td>0</td>\n",
       "      <td>0</td>\n",
       "      <td>0</td>\n",
       "    </tr>\n",
       "    <tr>\n",
       "      <th>1</th>\n",
       "      <td>5</td>\n",
       "      <td>0</td>\n",
       "      <td>0</td>\n",
       "      <td>0</td>\n",
       "      <td>0</td>\n",
       "      <td>0</td>\n",
       "      <td>0</td>\n",
       "      <td>0</td>\n",
       "      <td>0</td>\n",
       "      <td>0</td>\n",
       "      <td>...</td>\n",
       "      <td>0</td>\n",
       "      <td>0</td>\n",
       "      <td>0</td>\n",
       "      <td>0</td>\n",
       "      <td>0</td>\n",
       "      <td>0</td>\n",
       "      <td>0</td>\n",
       "      <td>0</td>\n",
       "      <td>0</td>\n",
       "      <td>0</td>\n",
       "    </tr>\n",
       "    <tr>\n",
       "      <th>2</th>\n",
       "      <td>3</td>\n",
       "      <td>0</td>\n",
       "      <td>0</td>\n",
       "      <td>0</td>\n",
       "      <td>0</td>\n",
       "      <td>0</td>\n",
       "      <td>0</td>\n",
       "      <td>0</td>\n",
       "      <td>0</td>\n",
       "      <td>0</td>\n",
       "      <td>...</td>\n",
       "      <td>0</td>\n",
       "      <td>0</td>\n",
       "      <td>0</td>\n",
       "      <td>0</td>\n",
       "      <td>0</td>\n",
       "      <td>0</td>\n",
       "      <td>0</td>\n",
       "      <td>0</td>\n",
       "      <td>0</td>\n",
       "      <td>0</td>\n",
       "    </tr>\n",
       "    <tr>\n",
       "      <th>3</th>\n",
       "      <td>2</td>\n",
       "      <td>0</td>\n",
       "      <td>0</td>\n",
       "      <td>0</td>\n",
       "      <td>0</td>\n",
       "      <td>0</td>\n",
       "      <td>0</td>\n",
       "      <td>0</td>\n",
       "      <td>0</td>\n",
       "      <td>0</td>\n",
       "      <td>...</td>\n",
       "      <td>0</td>\n",
       "      <td>0</td>\n",
       "      <td>0</td>\n",
       "      <td>0</td>\n",
       "      <td>0</td>\n",
       "      <td>0</td>\n",
       "      <td>0</td>\n",
       "      <td>0</td>\n",
       "      <td>0</td>\n",
       "      <td>0</td>\n",
       "    </tr>\n",
       "    <tr>\n",
       "      <th>4</th>\n",
       "      <td>0</td>\n",
       "      <td>0</td>\n",
       "      <td>0</td>\n",
       "      <td>0</td>\n",
       "      <td>0</td>\n",
       "      <td>0</td>\n",
       "      <td>0</td>\n",
       "      <td>0</td>\n",
       "      <td>0</td>\n",
       "      <td>0</td>\n",
       "      <td>...</td>\n",
       "      <td>0</td>\n",
       "      <td>0</td>\n",
       "      <td>0</td>\n",
       "      <td>0</td>\n",
       "      <td>0</td>\n",
       "      <td>0</td>\n",
       "      <td>0</td>\n",
       "      <td>0</td>\n",
       "      <td>0</td>\n",
       "      <td>0</td>\n",
       "    </tr>\n",
       "  </tbody>\n",
       "</table>\n",
       "<p>5 rows × 785 columns</p>\n",
       "</div>"
      ],
      "text/plain": [
       "   label  pixel0  pixel1  pixel2  pixel3  pixel4  pixel5  pixel6  pixel7  \\\n",
       "0      3       0       0       0       0       0       0       0       0   \n",
       "1      5       0       0       0       0       0       0       0       0   \n",
       "2      3       0       0       0       0       0       0       0       0   \n",
       "3      2       0       0       0       0       0       0       0       0   \n",
       "4      0       0       0       0       0       0       0       0       0   \n",
       "\n",
       "   pixel8  ...  pixel774  pixel775  pixel776  pixel777  pixel778  pixel779  \\\n",
       "0       0  ...         0         0         0         0         0         0   \n",
       "1       0  ...         0         0         0         0         0         0   \n",
       "2       0  ...         0         0         0         0         0         0   \n",
       "3       0  ...         0         0         0         0         0         0   \n",
       "4       0  ...         0         0         0         0         0         0   \n",
       "\n",
       "   pixel780  pixel781  pixel782  pixel783  \n",
       "0         0         0         0         0  \n",
       "1         0         0         0         0  \n",
       "2         0         0         0         0  \n",
       "3         0         0         0         0  \n",
       "4         0         0         0         0  \n",
       "\n",
       "[5 rows x 785 columns]"
      ]
     },
     "execution_count": 3,
     "metadata": {},
     "output_type": "execute_result"
    }
   ],
   "source": [
    "train.head()"
   ]
  },
  {
   "cell_type": "code",
   "execution_count": 4,
   "id": "4df0a2e2",
   "metadata": {},
   "outputs": [
    {
     "data": {
      "text/html": [
       "<div>\n",
       "<style scoped>\n",
       "    .dataframe tbody tr th:only-of-type {\n",
       "        vertical-align: middle;\n",
       "    }\n",
       "\n",
       "    .dataframe tbody tr th {\n",
       "        vertical-align: top;\n",
       "    }\n",
       "\n",
       "    .dataframe thead th {\n",
       "        text-align: right;\n",
       "    }\n",
       "</style>\n",
       "<table border=\"1\" class=\"dataframe\">\n",
       "  <thead>\n",
       "    <tr style=\"text-align: right;\">\n",
       "      <th></th>\n",
       "      <th>label</th>\n",
       "      <th>pixel0</th>\n",
       "      <th>pixel1</th>\n",
       "      <th>pixel2</th>\n",
       "      <th>pixel3</th>\n",
       "      <th>pixel4</th>\n",
       "      <th>pixel5</th>\n",
       "      <th>pixel6</th>\n",
       "      <th>pixel7</th>\n",
       "      <th>pixel8</th>\n",
       "      <th>...</th>\n",
       "      <th>pixel774</th>\n",
       "      <th>pixel775</th>\n",
       "      <th>pixel776</th>\n",
       "      <th>pixel777</th>\n",
       "      <th>pixel778</th>\n",
       "      <th>pixel779</th>\n",
       "      <th>pixel780</th>\n",
       "      <th>pixel781</th>\n",
       "      <th>pixel782</th>\n",
       "      <th>pixel783</th>\n",
       "    </tr>\n",
       "  </thead>\n",
       "  <tbody>\n",
       "    <tr>\n",
       "      <th>0</th>\n",
       "      <td>0</td>\n",
       "      <td>0</td>\n",
       "      <td>0</td>\n",
       "      <td>0</td>\n",
       "      <td>0</td>\n",
       "      <td>0</td>\n",
       "      <td>0</td>\n",
       "      <td>0</td>\n",
       "      <td>0</td>\n",
       "      <td>0</td>\n",
       "      <td>...</td>\n",
       "      <td>0</td>\n",
       "      <td>0</td>\n",
       "      <td>0</td>\n",
       "      <td>0</td>\n",
       "      <td>0</td>\n",
       "      <td>0</td>\n",
       "      <td>0</td>\n",
       "      <td>0</td>\n",
       "      <td>0</td>\n",
       "      <td>0</td>\n",
       "    </tr>\n",
       "    <tr>\n",
       "      <th>1</th>\n",
       "      <td>0</td>\n",
       "      <td>0</td>\n",
       "      <td>0</td>\n",
       "      <td>0</td>\n",
       "      <td>0</td>\n",
       "      <td>0</td>\n",
       "      <td>0</td>\n",
       "      <td>0</td>\n",
       "      <td>0</td>\n",
       "      <td>0</td>\n",
       "      <td>...</td>\n",
       "      <td>0</td>\n",
       "      <td>0</td>\n",
       "      <td>0</td>\n",
       "      <td>0</td>\n",
       "      <td>0</td>\n",
       "      <td>0</td>\n",
       "      <td>0</td>\n",
       "      <td>0</td>\n",
       "      <td>0</td>\n",
       "      <td>0</td>\n",
       "    </tr>\n",
       "    <tr>\n",
       "      <th>2</th>\n",
       "      <td>7</td>\n",
       "      <td>0</td>\n",
       "      <td>0</td>\n",
       "      <td>0</td>\n",
       "      <td>0</td>\n",
       "      <td>0</td>\n",
       "      <td>0</td>\n",
       "      <td>0</td>\n",
       "      <td>0</td>\n",
       "      <td>0</td>\n",
       "      <td>...</td>\n",
       "      <td>0</td>\n",
       "      <td>0</td>\n",
       "      <td>0</td>\n",
       "      <td>0</td>\n",
       "      <td>0</td>\n",
       "      <td>0</td>\n",
       "      <td>0</td>\n",
       "      <td>0</td>\n",
       "      <td>0</td>\n",
       "      <td>0</td>\n",
       "    </tr>\n",
       "    <tr>\n",
       "      <th>3</th>\n",
       "      <td>3</td>\n",
       "      <td>0</td>\n",
       "      <td>0</td>\n",
       "      <td>0</td>\n",
       "      <td>0</td>\n",
       "      <td>0</td>\n",
       "      <td>0</td>\n",
       "      <td>0</td>\n",
       "      <td>0</td>\n",
       "      <td>0</td>\n",
       "      <td>...</td>\n",
       "      <td>0</td>\n",
       "      <td>0</td>\n",
       "      <td>0</td>\n",
       "      <td>0</td>\n",
       "      <td>0</td>\n",
       "      <td>0</td>\n",
       "      <td>0</td>\n",
       "      <td>0</td>\n",
       "      <td>0</td>\n",
       "      <td>0</td>\n",
       "    </tr>\n",
       "    <tr>\n",
       "      <th>4</th>\n",
       "      <td>5</td>\n",
       "      <td>0</td>\n",
       "      <td>0</td>\n",
       "      <td>0</td>\n",
       "      <td>0</td>\n",
       "      <td>0</td>\n",
       "      <td>0</td>\n",
       "      <td>0</td>\n",
       "      <td>0</td>\n",
       "      <td>0</td>\n",
       "      <td>...</td>\n",
       "      <td>0</td>\n",
       "      <td>0</td>\n",
       "      <td>0</td>\n",
       "      <td>0</td>\n",
       "      <td>0</td>\n",
       "      <td>0</td>\n",
       "      <td>0</td>\n",
       "      <td>0</td>\n",
       "      <td>0</td>\n",
       "      <td>0</td>\n",
       "    </tr>\n",
       "  </tbody>\n",
       "</table>\n",
       "<p>5 rows × 785 columns</p>\n",
       "</div>"
      ],
      "text/plain": [
       "   label  pixel0  pixel1  pixel2  pixel3  pixel4  pixel5  pixel6  pixel7  \\\n",
       "0      0       0       0       0       0       0       0       0       0   \n",
       "1      0       0       0       0       0       0       0       0       0   \n",
       "2      7       0       0       0       0       0       0       0       0   \n",
       "3      3       0       0       0       0       0       0       0       0   \n",
       "4      5       0       0       0       0       0       0       0       0   \n",
       "\n",
       "   pixel8  ...  pixel774  pixel775  pixel776  pixel777  pixel778  pixel779  \\\n",
       "0       0  ...         0         0         0         0         0         0   \n",
       "1       0  ...         0         0         0         0         0         0   \n",
       "2       0  ...         0         0         0         0         0         0   \n",
       "3       0  ...         0         0         0         0         0         0   \n",
       "4       0  ...         0         0         0         0         0         0   \n",
       "\n",
       "   pixel780  pixel781  pixel782  pixel783  \n",
       "0         0         0         0         0  \n",
       "1         0         0         0         0  \n",
       "2         0         0         0         0  \n",
       "3         0         0         0         0  \n",
       "4         0         0         0         0  \n",
       "\n",
       "[5 rows x 785 columns]"
      ]
     },
     "execution_count": 4,
     "metadata": {},
     "output_type": "execute_result"
    }
   ],
   "source": [
    "test.head()"
   ]
  },
  {
   "cell_type": "markdown",
   "id": "98306c54",
   "metadata": {},
   "source": [
    "### Data Pre-processing"
   ]
  },
  {
   "cell_type": "markdown",
   "id": "72671dd1",
   "metadata": {},
   "source": [
    "The target variable in the train dataset, stored as colum 'label' is subsetted and stored in y_train while the other attributes are stored in X_train. "
   ]
  },
  {
   "cell_type": "code",
   "execution_count": 5,
   "id": "fa80cdc0",
   "metadata": {},
   "outputs": [
    {
     "data": {
      "text/plain": [
       "1    471\n",
       "8    438\n",
       "7    436\n",
       "3    425\n",
       "4    420\n",
       "0    418\n",
       "6    416\n",
       "2    413\n",
       "5    390\n",
       "9    371\n",
       "Name: label, dtype: int64"
      ]
     },
     "execution_count": 5,
     "metadata": {},
     "output_type": "execute_result"
    }
   ],
   "source": [
    "y_train = train[\"label\"]\n",
    "\n",
    "# Drop 'label' column\n",
    "X_train = train.drop(labels = [\"label\"],axis = 1) \n",
    "\n",
    "\n",
    "y_train.value_counts()\n"
   ]
  },
  {
   "cell_type": "code",
   "execution_count": 6,
   "id": "26ea1a6e",
   "metadata": {},
   "outputs": [],
   "source": [
    "#Same is done for test dataset for later use\n",
    "\n",
    "y_test = test[\"label\"]\n",
    "\n",
    "# Drop 'label' column\n",
    "X_test = test.drop(labels = [\"label\"],axis = 1)\n"
   ]
  },
  {
   "cell_type": "code",
   "execution_count": 7,
   "id": "99769d6e",
   "metadata": {},
   "outputs": [
    {
     "data": {
      "text/plain": [
       "0"
      ]
     },
     "execution_count": 7,
     "metadata": {},
     "output_type": "execute_result"
    }
   ],
   "source": [
    "#Check for missing values\n",
    "\n",
    "y_train.isna().sum()"
   ]
  },
  {
   "cell_type": "markdown",
   "id": "f6d083f7",
   "metadata": {},
   "source": [
    "There are no missing values."
   ]
  },
  {
   "cell_type": "markdown",
   "id": "4398ceb1",
   "metadata": {},
   "source": [
    "# Section 2: Decision tree"
   ]
  },
  {
   "cell_type": "markdown",
   "id": "63ac0ba3",
   "metadata": {},
   "source": [
    "First the original decision tree model is create and trained using the whole training dataset and then 3-fold cross validation is performed for training the model and the difference in of the 2 models is compared."
   ]
  },
  {
   "cell_type": "code",
   "execution_count": 8,
   "id": "1fe4af71",
   "metadata": {},
   "outputs": [],
   "source": [
    "from sklearn.tree import DecisionTreeClassifier\n",
    "from sklearn.pipeline import make_pipeline\n",
    "from sklearn.metrics import accuracy_score\n",
    "from sklearn.preprocessing import StandardScaler\n",
    "\n",
    "#Creating a pipeline that consists of steps : Scaling and Decision tree classifier\n",
    "\n",
    "pipeline = make_pipeline(StandardScaler(), DecisionTreeClassifier(random_state=1046,max_depth = 12,\n",
    "                                                                  min_samples_leaf=2))\n",
    "\n",
    "\n",
    "pipeline = make_pipeline(StandardScaler(), DecisionTreeClassifier(random_state=1046,max_depth = 12,\n",
    "                                                                  min_samples_leaf=2))\n",
    "\n",
    "#The max_depth parameter in the model defines the maximum allowed size to which the decision tree is allowed to expand \n",
    "#while, the min_samples_leaf paramter defines the minimum sample leaves needed in the decision tree"
   ]
  },
  {
   "cell_type": "code",
   "execution_count": 9,
   "id": "a974c237",
   "metadata": {},
   "outputs": [
    {
     "name": "stdout",
     "output_type": "stream",
     "text": [
      "Train Data Accuracy    :95.31 %\n"
     ]
    }
   ],
   "source": [
    "pipeline.fit(X_train,y_train)\n",
    "predict= pipeline.predict(X_train)\n",
    "\n",
    "trainaccuracy= accuracy_score(y_train,pipeline.predict(X_train))\n",
    "trainaccuracy\n",
    "print(\"Train Data Accuracy    :{} %\".format(round((trainaccuracy*100),2)))\n",
    "\n"
   ]
  },
  {
   "cell_type": "markdown",
   "id": "b0916235",
   "metadata": {},
   "source": [
    "The original Decision tree model gives a training set accuracy of 95.31%. Such high accuracy can lead to  overfitting."
   ]
  },
  {
   "cell_type": "markdown",
   "id": "9566cbd1",
   "metadata": {},
   "source": [
    "### Cross-validation"
   ]
  },
  {
   "cell_type": "markdown",
   "id": "37a0ecae",
   "metadata": {},
   "source": [
    "K-fold cross validation is a data splitting technique that can be implemented with k > 1 folds.\n",
    "The conventional technique for training and testing the model is to split the data in two different splits which are termed as training and test split but this technique has it's disadvantages as models tend to overfit to test data and cannot perform for un-seen data.To overcome this cross-validation is used that creates K-folds of training data in which (K-1) fold is used for training and the remaining fold is used for testing. This process is repeated for K times and the model performance is calculated for a particular set of hyperparameters by taking the mean and standard deviation of all the K models created."
   ]
  },
  {
   "cell_type": "code",
   "execution_count": 10,
   "id": "205c5e8b",
   "metadata": {},
   "outputs": [],
   "source": [
    "#Cross-validation\n",
    "from sklearn.model_selection import KFold\n",
    "from sklearn.model_selection import cross_val_score\n",
    "\n",
    "#Tune the parameters, such as the pruning options, and report the 3-fold CV accuracy. \n",
    "cv =  KFold(n_splits=3, random_state=1, shuffle=True)\n",
    "\n",
    "# evaluate model\n",
    "scores = cross_val_score(pipeline, X_train, y_train, scoring='accuracy', cv=cv, n_jobs=-1)"
   ]
  },
  {
   "cell_type": "code",
   "execution_count": 11,
   "id": "89512870",
   "metadata": {},
   "outputs": [
    {
     "name": "stdout",
     "output_type": "stream",
     "text": [
      "Cross-validation Training accuracy scores [0.74142857 0.73909936 0.74267334]\n",
      "Cross-validation Training accuracy: 74.107 +/- 0.148\n"
     ]
    }
   ],
   "source": [
    "print(\"Cross-validation Training accuracy scores %s\" %scores)\n",
    "\n",
    "print(\"Cross-validation Training accuracy: %.3f +/- %.3f\" %(np.mean(scores)*100,np.std(scores)*100))"
   ]
  },
  {
   "cell_type": "code",
   "execution_count": 12,
   "id": "a8d97d72",
   "metadata": {},
   "outputs": [
    {
     "name": "stdout",
     "output_type": "stream",
     "text": [
      "Test Data Accuracy    :77.58 %\n"
     ]
    }
   ],
   "source": [
    "#predict \n",
    "\n",
    "#Now predicting the digits from the test dataset and computing the performance of the model with test dataset\n",
    "\n",
    "result = pipeline.predict(X_test)\n",
    "\n",
    "testaccuracy = accuracy_score(y_test,result)\n",
    "testaccuracy\n",
    "print(\"Test Data Accuracy    :{} %\".format(round((testaccuracy*100),2)))"
   ]
  },
  {
   "cell_type": "markdown",
   "id": "c624eb5b",
   "metadata": {},
   "source": [
    "The accuracy of the Decision tree model with 3-fold cross validation is 77.585%."
   ]
  },
  {
   "cell_type": "markdown",
   "id": "82257800",
   "metadata": {},
   "source": [
    "# Section 3: Naïve Bayes"
   ]
  },
  {
   "cell_type": "markdown",
   "id": "2a795123",
   "metadata": {},
   "source": [
    "Naive Bayes is a classification technique based on the Bayes theorem. It is a simple but powerful algorithm for predictive modeling under supervised learning algorithms.The specific Naive Bayes model we use here is the Gaussian Naive Bayes. This is a variant of Naive Bayes which supports continuous values and has an assumption that each class is normally distributed. "
   ]
  },
  {
   "cell_type": "code",
   "execution_count": 13,
   "id": "f3b6b508",
   "metadata": {},
   "outputs": [
    {
     "name": "stdout",
     "output_type": "stream",
     "text": [
      "Train Data Accuracy    :48.69 %\n"
     ]
    }
   ],
   "source": [
    "from sklearn.naive_bayes import GaussianNB\n",
    "from sklearn.model_selection import GridSearchCV\n",
    "from sklearn.decomposition import PCA\n",
    "from sklearn.pipeline import Pipeline\n",
    "\n",
    "#Create a pipeline which first performs PCA on the train dataset followed by creating the GaussianNB()\n",
    "pipe = Pipeline(steps=[('pca', PCA()),('estimator', GaussianNB()),])\n",
    "    \n",
    "pipe.fit(X_train, y_train)\n",
    "\n",
    "trainaccuracy = accuracy_score(y_train,pipe.predict(X_train))\n",
    "print(\"Train Data Accuracy    :{} %\".format(round((trainaccuracy*100),2)))\n",
    "\n"
   ]
  },
  {
   "cell_type": "code",
   "execution_count": 14,
   "id": "4af1a12b",
   "metadata": {},
   "outputs": [],
   "source": [
    "#Cross-validation\n",
    "\n",
    "scores = cross_val_score(pipe, X_train, y_train, cv = 3, scoring='accuracy')\n"
   ]
  },
  {
   "cell_type": "markdown",
   "id": "6cb66321",
   "metadata": {},
   "source": [
    "The original model accuracy on taining dataset was 48.69% and accuracy after performing 3-fold cross validation is 52.073%. So, the 3-fold cross-validation accuracy does not result in performance improvement for this model."
   ]
  },
  {
   "cell_type": "markdown",
   "id": "bc33b2a5",
   "metadata": {},
   "source": [
    "### Hypertuning parameters"
   ]
  },
  {
   "cell_type": "code",
   "execution_count": 15,
   "id": "0929fe31",
   "metadata": {},
   "outputs": [
    {
     "name": "stdout",
     "output_type": "stream",
     "text": [
      "Pipeline(steps=[('pca', PCA()), ('estimator', GaussianNB())])\n",
      "best score:\n",
      "0.5207284114503556\n",
      "[0 8 9 ... 5 0 1]\n"
     ]
    }
   ],
   "source": [
    "parameters = {'estimator__var_smoothing': [1e-11, 1e-10, 1e-9]}\n",
    "Bayes = GridSearchCV(pipe, parameters, scoring='accuracy', cv=3).fit(X_train, y_train)\n",
    "print(Bayes.best_estimator_)\n",
    "print('best score:')\n",
    "print(Bayes.best_score_)\n",
    "predictions = Bayes.best_estimator_.predict(X_test)\n",
    "print(predictions)"
   ]
  },
  {
   "cell_type": "markdown",
   "id": "1bba0045",
   "metadata": {},
   "source": [
    "The accuracy of the Naive Bayes model with 3-fold cross validation is 52.072%"
   ]
  },
  {
   "cell_type": "markdown",
   "id": "9144a898",
   "metadata": {},
   "source": [
    "The Naive Bayes model yields an accuracy of approximately 52% on the given test set while Decision tree gives an accuracy of 77.6%. Clearly, Decision tree model performs better than Naive Bayes model.\n",
    "Additionally, the Decision tree model runs faster than the Naive Bayes model.\n",
    "\n",
    "Decision tree is a discriminative model, whereas Naive bayes is a generative model. Decision trees are more flexible and easy and perform better when there is lots of data. Naive Bayes on the other hand performs better with less data.This is the reason Naive Bayes is slower."
   ]
  },
  {
   "cell_type": "code",
   "execution_count": null,
   "id": "5e9d968f",
   "metadata": {},
   "outputs": [],
   "source": []
  }
 ],
 "metadata": {
  "kernelspec": {
   "display_name": "Python 3 (ipykernel)",
   "language": "python",
   "name": "python3"
  },
  "language_info": {
   "codemirror_mode": {
    "name": "ipython",
    "version": 3
   },
   "file_extension": ".py",
   "mimetype": "text/x-python",
   "name": "python",
   "nbconvert_exporter": "python",
   "pygments_lexer": "ipython3",
   "version": "3.9.7"
  }
 },
 "nbformat": 4,
 "nbformat_minor": 5
}
